{
 "cells": [
  {
   "cell_type": "code",
   "execution_count": 1,
   "id": "d6dbbbc8",
   "metadata": {},
   "outputs": [],
   "source": [
    "import pandas as pd\n",
    "df = pd.read_csv(\"employee.csv\")"
   ]
  },
  {
   "cell_type": "code",
   "execution_count": 2,
   "id": "d20d1755",
   "metadata": {},
   "outputs": [
    {
     "name": "stdout",
     "output_type": "stream",
     "text": [
      "Measures of Spread - MonthlyIncome:\n",
      "Salary Range: 18990\n",
      "Salary Variance: 22164857.07151842\n",
      "Salary Standard Deviation: 4707.956783097995\n"
     ]
    }
   ],
   "source": [
    "# Calculate measures of spread\n",
    "salary_range = df[\"MonthlyIncome\"].max() - df[\"MonthlyIncome\"].min()\n",
    "salary_variance = df[\"MonthlyIncome\"].var()\n",
    "salary_std_dev = df[\"MonthlyIncome\"].std()\n",
    "\n",
    "print(\"Measures of Spread - MonthlyIncome:\")\n",
    "print(\"Salary Range:\", salary_range)\n",
    "print(\"Salary Variance:\", salary_variance)\n",
    "print(\"Salary Standard Deviation:\", salary_std_dev)"
   ]
  },
  {
   "cell_type": "code",
   "execution_count": null,
   "id": "809fe9b5",
   "metadata": {},
   "outputs": [],
   "source": [
    "# Salary Variance measures the spread of dispersion of the salaries around the mean or average.\n",
    "\n",
    "# A larger variance suggests that the salaries in the dataset are more spread out from the mean.\n",
    "# Since the value of the variance is quite large, it indicates that the salaries in the dataset have considerable variability or differences from the avergae salary standard deviation.\n",
    "\n",
    "# The standard deviation is another measure of spread or dispersion of the salaries.\n",
    "# It indicates the average amount by which the salaries deviate from the mean.\n"
   ]
  }
 ],
 "metadata": {
  "kernelspec": {
   "display_name": "Python 3 (ipykernel)",
   "language": "python",
   "name": "python3"
  },
  "language_info": {
   "codemirror_mode": {
    "name": "ipython",
    "version": 3
   },
   "file_extension": ".py",
   "mimetype": "text/x-python",
   "name": "python",
   "nbconvert_exporter": "python",
   "pygments_lexer": "ipython3",
   "version": "3.11.5"
  }
 },
 "nbformat": 4,
 "nbformat_minor": 5
}
