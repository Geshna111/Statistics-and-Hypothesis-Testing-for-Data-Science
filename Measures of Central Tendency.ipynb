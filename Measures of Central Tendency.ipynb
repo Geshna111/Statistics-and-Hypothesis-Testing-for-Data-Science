{
 "cells": [
  {
   "cell_type": "code",
   "execution_count": 1,
   "id": "2018b0f3",
   "metadata": {},
   "outputs": [],
   "source": [
    "import pandas as pd"
   ]
  },
  {
   "cell_type": "code",
   "execution_count": 2,
   "id": "2f538e95",
   "metadata": {},
   "outputs": [],
   "source": [
    "df = pd.read_csv(\"employee.csv\")"
   ]
  },
  {
   "cell_type": "code",
   "execution_count": 3,
   "id": "990a605b",
   "metadata": {},
   "outputs": [
    {
     "name": "stdout",
     "output_type": "stream",
     "text": [
      "19999\n"
     ]
    }
   ],
   "source": [
    "# Finding the maximum value in the MonthlyIncome column\n",
    "print(df[\"MonthlyIncome\"].max())"
   ]
  },
  {
   "cell_type": "code",
   "execution_count": 4,
   "id": "4e5008a2",
   "metadata": {},
   "outputs": [
    {
     "name": "stdout",
     "output_type": "stream",
     "text": [
      "1009\n"
     ]
    }
   ],
   "source": [
    "# Finding the minimum value in the MonthlyIncome column\n",
    "print(df[\"MonthlyIncome\"].min())"
   ]
  },
  {
   "cell_type": "code",
   "execution_count": 5,
   "id": "4515eb4b",
   "metadata": {},
   "outputs": [
    {
     "name": "stdout",
     "output_type": "stream",
     "text": [
      "Measures of Central Tendency - MonthlyIncome:\n",
      "Mean Salary: 6502.931292517007\n",
      "Median Salary: 4919.0\n",
      "Mode Salary: [2342]\n"
     ]
    }
   ],
   "source": [
    "# Calculate measures of central tendency\n",
    "mean_salary = df[\"MonthlyIncome\"].mean()\n",
    "median_salary = df[\"MonthlyIncome\"].median()\n",
    "mode_salary = df[\"MonthlyIncome\"].mode().values\n",
    "\n",
    "print(\"Measures of Central Tendency - MonthlyIncome:\")\n",
    "print(\"Mean Salary:\", mean_salary)\n",
    "print(\"Median Salary:\", median_salary)\n",
    "print(\"Mode Salary:\", mode_salary)"
   ]
  },
  {
   "cell_type": "code",
   "execution_count": null,
   "id": "034da74a",
   "metadata": {},
   "outputs": [],
   "source": []
  }
 ],
 "metadata": {
  "kernelspec": {
   "display_name": "Python 3 (ipykernel)",
   "language": "python",
   "name": "python3"
  },
  "language_info": {
   "codemirror_mode": {
    "name": "ipython",
    "version": 3
   },
   "file_extension": ".py",
   "mimetype": "text/x-python",
   "name": "python",
   "nbconvert_exporter": "python",
   "pygments_lexer": "ipython3",
   "version": "3.11.5"
  }
 },
 "nbformat": 4,
 "nbformat_minor": 5
}
