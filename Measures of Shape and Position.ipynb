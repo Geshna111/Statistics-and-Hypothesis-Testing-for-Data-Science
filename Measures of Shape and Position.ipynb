{
 "cells": [
  {
   "cell_type": "code",
   "execution_count": 4,
   "id": "9d71ad2a",
   "metadata": {},
   "outputs": [],
   "source": [
    "import pandas as pd\n",
    "df = pd.read_csv(\"employee.csv\")"
   ]
  },
  {
   "cell_type": "code",
   "execution_count": 5,
   "id": "29f516b1",
   "metadata": {},
   "outputs": [
    {
     "name": "stdout",
     "output_type": "stream",
     "text": [
      "Skewness of Salary: 1.3684185123330814\n",
      "Kurtosis of Salary: 0.9977379294765711\n"
     ]
    }
   ],
   "source": [
    "import scipy.stats as stats\n",
    "\n",
    "#Calculate skewness and kurtosis\n",
    "salary_skewness = stats.skew(df['MonthlyIncome'])\n",
    "salary_kurtosis = stats.kurtosis(df['MonthlyIncome'])\n",
    "\n",
    "print(\"Skewness of Salary:\", salary_skewness)\n",
    "print(\"Kurtosis of Salary:\", salary_kurtosis)"
   ]
  },
  {
   "cell_type": "code",
   "execution_count": 6,
   "id": "ee0465e1",
   "metadata": {},
   "outputs": [],
   "source": [
    "# Skewness value of 1.36 indicates a positive skewness\n",
    "# This means that the distribution of monthly income is right-skewed or positively skewed.\n",
    "# In other words, the distribution has a longer right tail, indicating that there may be a few high income outliers or a small number of individuals with significantly higher incomes compared to the majority.\n",
    "\n",
    "# The kurtosis of salary is around 0.99, which suggests a distribution that is close to the normal distribution.\n",
    "# A kurtosis value around zero indicates that the distribution has a similar peak and tails as the normal distribution, which is bell shaped.\n",
    "# However, since the value is less than three, it indicates that the distribution has slightly lighter tails than the normal distribution, meaning that extreme values or outliers are not as prominent as they would be in a more heavy tailed distribution.\n",
    "\n",
    "# So in summary, the positive skewness indicates that there are some high income outliers or individuals with significantly higher incomes, causing the distribution to be right-skewed.\n",
    "# Kurtosis value close to one indicates that the distribution is relatively close to a normal distribution but with slightly lighter tails."
   ]
  },
  {
   "cell_type": "code",
   "execution_count": 7,
   "id": "d1fca579",
   "metadata": {},
   "outputs": [],
   "source": [
    "import numpy as np"
   ]
  },
  {
   "cell_type": "code",
   "execution_count": 9,
   "id": "066f89c0",
   "metadata": {},
   "outputs": [
    {
     "name": "stdout",
     "output_type": "stream",
     "text": [
      "Percentiles:\n",
      "15th percentile: 2476.7\n",
      "45th percentile (median): 4554.1\n",
      "65th percentile: 6348.7\n",
      "\n",
      "Quartiles:\n",
      "Q1 (25th percentile): 2911.0\n",
      "Q2 (50th percentile, median): 4919.0\n",
      "Q3 (75th percentile): 8379.0\n"
     ]
    }
   ],
   "source": [
    "# Calculate percentiles\n",
    "percentiles = np.percentile(df['MonthlyIncome'],[15,45,65])\n",
    "\n",
    "# Calculate quartiles\n",
    "quartiles = np.percentile(df['MonthlyIncome'],[25,50,75])\n",
    "\n",
    "print(\"Percentiles:\")\n",
    "print(\"15th percentile:\", percentiles[0])\n",
    "print(\"45th percentile (median):\", percentiles[1])\n",
    "print(\"65th percentile:\", percentiles[2])\n",
    "\n",
    "print(\"\\nQuartiles:\")\n",
    "print(\"Q1 (25th percentile):\", quartiles[0])\n",
    "print(\"Q2 (50th percentile, median):\", quartiles[1])\n",
    "print(\"Q3 (75th percentile):\", quartiles[2])"
   ]
  },
  {
   "cell_type": "code",
   "execution_count": null,
   "id": "e846db2f",
   "metadata": {},
   "outputs": [],
   "source": []
  }
 ],
 "metadata": {
  "kernelspec": {
   "display_name": "Python 3 (ipykernel)",
   "language": "python",
   "name": "python3"
  },
  "language_info": {
   "codemirror_mode": {
    "name": "ipython",
    "version": 3
   },
   "file_extension": ".py",
   "mimetype": "text/x-python",
   "name": "python",
   "nbconvert_exporter": "python",
   "pygments_lexer": "ipython3",
   "version": "3.11.5"
  }
 },
 "nbformat": 4,
 "nbformat_minor": 5
}
